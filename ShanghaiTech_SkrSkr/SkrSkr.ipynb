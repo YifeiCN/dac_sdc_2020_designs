{
 "cells": [
  {
   "cell_type": "markdown",
   "metadata": {},
   "source": [
    "## 1. Import all libraries"
   ]
  },
  {
   "cell_type": "code",
   "execution_count": 1,
   "metadata": {},
   "outputs": [
    {
     "data": {
      "application/javascript": [
       "\n",
       "require(['notebook/js/codecell'], function(codecell) {\n",
       "  codecell.CodeCell.options_default.highlight_modes[\n",
       "      'magic_text/x-csrc'] = {'reg':[/^%%microblaze/]};\n",
       "  Jupyter.notebook.events.one('kernel_ready.Kernel', function(){\n",
       "      Jupyter.notebook.get_cells().map(function(cell){\n",
       "          if (cell.cell_type == 'code'){ cell.auto_highlight(); } }) ;\n",
       "  });\n",
       "});\n"
      ]
     },
     "metadata": {},
     "output_type": "display_data"
    }
   ],
   "source": [
    "import sys\n",
    "import numpy as np \n",
    "import os\n",
    "import time\n",
    "from PIL import Image\n",
    "import cv2\n",
    "from datetime import datetime\n",
    "from pynq import Xlnk\n",
    "from pynq import Overlay\n",
    "import pynq\n",
    "import struct\n",
    "from multiprocessing import Process, Pipe, Queue, Event, Manager\n",
    "\n",
    "sys.path.append(os.path.abspath(\"../common\"))\n",
    "import dac_sdc\n",
    "\n",
    "DAC_CONTEST_PATH = '/home/xilinx/jupyter_notebooks/dac_sdc_2020/'\n",
    "team_name = 'SkrSkr'\n",
    "team = dac_sdc.Team(team_name, batch_size = 52500)\n",
    "image_list = team.get_next_batch()\n",
    "BATCH_SIZE = 4\n",
    "anchor = [1.4940052559648322, 2.3598481287086823, 4.0113013115312155, 5.760873975661669]\n",
    "bbox_m = [52., 48., 28., 30., 124., 47., 52., 23., 23., 125.]\n",
    "qm = 131072.0\n",
    "w = 40\n",
    "h = 20"
   ]
  },
  {
   "cell_type": "markdown",
   "metadata": {},
   "source": [
    "## 2. Preparing the overlay and weight loading"
   ]
  },
  {
   "cell_type": "code",
   "execution_count": 2,
   "metadata": {},
   "outputs": [
    {
     "name": "stdout",
     "output_type": "stream",
     "text": [
      "Allocate memory done\n",
      "Load parameters done\n",
      "Load Bitstream done\n",
      "Configure accelerator done\n",
      "Init process done\n"
     ]
    }
   ],
   "source": [
    "def sigmoid(x):\n",
    "    return 1/(1+np.exp(-x))\n",
    "    \n",
    "def compute_bounding_box(batches, result_queue, output_queue):\n",
    "    bbox = np.zeros((4,4),dtype=np.float32)\n",
    "    for i in range(len(batches)):\n",
    "        while output_queue.empty():\n",
    "            continue\n",
    "        bbox_temp  = output_queue.get()\n",
    "        bbox_origin = bbox_temp[0]\n",
    "        batch     = bbox_temp[1]\n",
    "\n",
    "        for b in range(4):\n",
    "            if(bbox_origin[b,4]>0):\n",
    "                xs = bbox_origin[b][0]*bbox_m[5]/qm\n",
    "                ys = bbox_origin[b][1]*bbox_m[6]/qm\n",
    "                ws = bbox_origin[b][2]*bbox_m[7]/qm\n",
    "                hs = bbox_origin[b][3]*bbox_m[8]/qm\n",
    "                ws_inb = np.exp(ws)*anchor[2]\n",
    "                hs_inb = np.exp(hs)*anchor[3]\n",
    "            else:\n",
    "                xs = bbox_origin[b][0]*bbox_m[0]/qm\n",
    "                ys = bbox_origin[b][1]*bbox_m[1]/qm\n",
    "                ws = bbox_origin[b][2]*bbox_m[2]/qm\n",
    "                hs = bbox_origin[b][3]*bbox_m[3]/qm\n",
    "                ws_inb = np.exp(ws)*anchor[0]\n",
    "                hs_inb = np.exp(hs)*anchor[1]\n",
    "            xs_inb = sigmoid(xs) + bbox_origin[b][5]\n",
    "            ys_inb = sigmoid(ys) + bbox_origin[b][6]\n",
    "            bcx = xs_inb/w\n",
    "            bcy = ys_inb/h\n",
    "            bw = ws_inb/w\n",
    "            bh = hs_inb/h\n",
    "            bbox[b][0] = bcx - bw/2.0\n",
    "            bbox[b][1] = bcy - bh/2.0\n",
    "            bbox[b][2] = bcx + bw/2.0\n",
    "            bbox[b][3] = bcy + bh/2.0\n",
    "\n",
    "            x1 = int(round(bbox[b][0] * 640))\n",
    "            y1 = int(round(bbox[b][1] * 360))\n",
    "            x2 = int(round(bbox[b][2] * 640))\n",
    "            y2 = int(round(bbox[b][3] * 360))\n",
    "            x1 = np.clip(x1,1,640)\n",
    "            y1 = np.clip(y1,1,360)\n",
    "            x2 = np.clip(x2,1,640)\n",
    "            y2 = np.clip(y2,1,360)\n",
    "            result_queue.append([batch[0]+b, [x1, x2, y1, y2]])\n",
    "\n",
    "def get_image_batch(image_list):\n",
    "    batches = list()\n",
    "    for i in range(0, len(image_list), BATCH_SIZE):\n",
    "        batches.append((i,image_list[i:i+BATCH_SIZE]))\n",
    "    return batches\n",
    "\n",
    "def stitch(batches, image_queue, pid, num_process):\n",
    "    for i in range(len(batches)):\n",
    "        while image_queue.full():\n",
    "                continue\n",
    "        if (i%num_process == pid):\n",
    "            image_ = np.zeros((4,160,320,4),np.uint8)\n",
    "            image_[0] = np.array(Image.open(batches[i][1][0]).convert('RGBA').resize((320, 160)))\n",
    "            image_[1] = np.array(Image.open(batches[i][1][1]).convert('RGBA').resize((320, 160)))\n",
    "            image_[2] = np.array(Image.open(batches[i][1][2]).convert('RGBA').resize((320, 160)))\n",
    "            image_[3] = np.array(Image.open(batches[i][1][3]).convert('RGBA').resize((320, 160)))\n",
    "            image_queue.put((image_, batches[i]))\n",
    "                \n",
    "        else:\n",
    "            continue\n",
    "\n",
    "def resort_result(result_queue):\n",
    "    result = []\n",
    "    for i in range(len(result_queue)):\n",
    "        result.append(result_queue[i])\n",
    "    result.sort(key = lambda x: int(x[0]))\n",
    "    result_list = [result[i][1] for i in range(len(result))]\n",
    "    return result_list\n",
    "\n",
    "xlnk = Xlnk()\n",
    "xlnk.xlnk_reset()\n",
    "\n",
    "img    = xlnk.cma_array(shape=[4,160,320,4], dtype=np.uint8)\n",
    "fm     = xlnk.cma_array(shape=(628115*32), dtype=np.uint8)\n",
    "weight = xlnk.cma_array(shape=(220672),  dtype=np.int16)\n",
    "biasm  = xlnk.cma_array(shape=(432*16),  dtype=np.int16)\n",
    "bbox   = np.empty(64, dtype=np.int16)\n",
    "print(\"Allocate memory done\")\n",
    "\n",
    "parameter = np.fromfile('SkrSkr.bin', dtype=np.int16)\n",
    "np.copyto(weight, parameter[0:220672])\n",
    "np.copyto(biasm[0:428*16], parameter[220672:])\n",
    "print(\"Load parameters done\")\n",
    "\n",
    "overlay = Overlay('dac_sdc.bit')\n",
    "print(\"Load Bitstream done\")\n",
    "\n",
    "SkyNet = overlay.SkyNet\n",
    "SkyNet.write(0x10, img.physical_address)\n",
    "SkyNet.write(0x1c, fm.physical_address)\n",
    "SkyNet.write(0x28, weight.physical_address)\n",
    "SkyNet.write(0x34, biasm.physical_address)\n",
    "print(\"Configure accelerator done\")\n",
    "\n",
    "batches = get_image_batch(image_list)\n",
    "progress = sys.stdout\n",
    "rails = pynq.get_rails()\n",
    "recorder = pynq.DataRecorder(rails['5V'].power)\n",
    "\n",
    "image_queue  = Queue(1000)\n",
    "output_queue = Queue(200)\n",
    "result_queue = Manager().list()\n",
    "num_p = 2\n",
    "p1 = Process(target=stitch, args=(batches, image_queue, 0, num_p))\n",
    "p2 = Process(target=stitch, args=(batches, image_queue, 1, num_p))\n",
    "p3 = Process(target=compute_bounding_box, args=(batches, result_queue, output_queue))\n",
    "print(\"Init process done\")"
   ]
  },
  {
   "cell_type": "markdown",
   "metadata": {},
   "source": [
    "## 3. Processing Images\n",
    "If it hangs, you can run the SkrSkr.py file, its content is exactly the same as the ipynb file."
   ]
  },
  {
   "cell_type": "code",
   "execution_count": 3,
   "metadata": {},
   "outputs": [
    {
     "name": "stdout",
     "output_type": "stream",
     "text": [
      "Start! Please wait for about 1000 seconds\n",
      "Processed/All: 52000/52500\n",
      "Finish! SkrSkr costs 997.401260 seconds, 8037.485144 J\n"
     ]
    }
   ],
   "source": [
    "print(\"Start! Please wait for about 1000 seconds\")\n",
    "start = time.time()\n",
    "p1.start()\n",
    "p2.start()\n",
    "p3.start()\n",
    "\n",
    "with recorder.record(0.05):\n",
    "    for i in range(len(batches)):\n",
    "        \n",
    "        while image_queue.empty():\n",
    "            continue\n",
    "        img_ = image_queue.get()\n",
    "        np.copyto(img, img_[0])           \n",
    "\n",
    "        SkyNet.write(0x00, 1)\n",
    "        isready = SkyNet.read(0x00)\n",
    "        while( isready == 1 ):\n",
    "            isready = SkyNet.read(0x00)\n",
    "\n",
    "        np.copyto(bbox, biasm[428*16:])\n",
    "        output_queue.put([bbox.reshape(4,16), img_[1]])\n",
    "        \"\"\"\n",
    "        if(i%125==0):\n",
    "            progress.write(f'\\rProcessed/All: {i*4:.0f}/52500')\n",
    "        \"\"\"\n",
    "\n",
    "p1.join()\n",
    "p2.join()\n",
    "p3.join()\n",
    "end = time.time()\n",
    "total_time = end - start\n",
    "total_energy = recorder.frame[\"5V_power\"].mean()*total_time\n",
    "print('\\nFinish! SkrSkr costs %f seconds, %f J'%(total_time,total_energy))"
   ]
  },
  {
   "cell_type": "markdown",
   "metadata": {},
   "source": [
    "## 4. Recording results, cleanup"
   ]
  },
  {
   "cell_type": "code",
   "execution_count": 4,
   "metadata": {},
   "outputs": [
    {
     "name": "stdout",
     "output_type": "stream",
     "text": [
      "XML results written successfully.\n"
     ]
    }
   ],
   "source": [
    "result = resort_result(result_queue)\n",
    "team.save_results_xml(result, total_time, total_energy)\n",
    "print(\"XML results written successfully.\")\n",
    "xlnk.xlnk_reset()"
   ]
  }
 ],
 "metadata": {
  "kernelspec": {
   "display_name": "Python 3",
   "language": "python",
   "name": "python3"
  },
  "language_info": {
   "codemirror_mode": {
    "name": "ipython",
    "version": 3
   },
   "file_extension": ".py",
   "mimetype": "text/x-python",
   "name": "python",
   "nbconvert_exporter": "python",
   "pygments_lexer": "ipython3",
   "version": "3.6.5"
  }
 },
 "nbformat": 4,
 "nbformat_minor": 2
}
